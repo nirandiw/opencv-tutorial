{
 "cells": [
  {
   "cell_type": "markdown",
   "metadata": {},
   "source": [
    "*** IMPORTANT *** \n",
    "This code was written for training purposes. The code is shared only for knowledge sharing purposes. The code should not be used in any production environments."
   ]
  },
  {
   "cell_type": "code",
   "execution_count": null,
   "metadata": {},
   "outputs": [],
   "source": [
    "import cv2\n",
    "from matplotlib import pyplot as plt\n",
    "import os\n",
    "import glob \n",
    "import numpy as np"
   ]
  },
  {
   "cell_type": "markdown",
   "metadata": {},
   "source": [
    "### Split Video ###\n",
    "\n",
    "Split the video in to frames and write the files. Original videos are in the `./data` folder. Frames are written to `./data/split_data`.\n",
    "\n",
    "\n"
   ]
  },
  {
   "cell_type": "code",
   "execution_count": null,
   "metadata": {},
   "outputs": [],
   "source": [
    "def split_data(video_path):\n",
    "    print(video_path)\n",
    "    \n",
    "    capture = cv2.VideoCapture(video_path)\n",
    "    video_name = video_path.split('/')[-1]\n",
    "    split_data_path = f'./data/split_data/{video_name[:-4]}'\n",
    "    \n",
    "    frameNr = 0\n",
    "    \n",
    "    if not os.path.exists('./data/split_data/'+video_name[:-4]):\n",
    "        os.mkdir('./data/split_data/'+video_name[:-4])\n",
    "    \n",
    "    while(True):\n",
    "        success,frame = capture.read()\n",
    "        if success:\n",
    "            isWritten = cv2.imwrite(f'{split_data_path}/frame_{frameNr}.jpg', frame)\n",
    "            if not isWritten:\n",
    "                print('Error writing the file!',video_name,frameNr)\n",
    "        else:\n",
    "            print(\"Error reading capture\")\n",
    "            break\n",
    "        frameNr= frameNr+1\n",
    "    capture.release()\n",
    "    "
   ]
  },
  {
   "cell_type": "code",
   "execution_count": null,
   "metadata": {},
   "outputs": [],
   "source": [
    "for mp4_path in glob.glob('./data/*.mp4'):\n",
    "    split_data(mp4_path)"
   ]
  },
  {
   "cell_type": "markdown",
   "metadata": {},
   "source": [
    "### XOR Operation ###\n",
    "\n",
    "Select a reference frame. Do a XOR operation with the reference frame. Removes irrelevant foreground noise.\n",
    "\n",
    "Note: Refrance frame should be selected carefully. As an example I picked frame_0 as the reference frame."
   ]
  },
  {
   "cell_type": "code",
   "execution_count": null,
   "metadata": {},
   "outputs": [],
   "source": [
    "def get_orig(spath, videoNr,splitNr=0):\n",
    "    orig = cv2.imread(f'{spath}{videoNr}/frame_{splitNr}.jpg')\n",
    "    return orig\n",
    "\n",
    "def get_compare(spath, videoNr, x):\n",
    "    compare = cv2.imread(f'{spath}{videoNr}/frame_{x}.jpg')\n",
    "    return compare\n",
    "\n",
    "def get_diff(orig, compare):\n",
    "    diffMask = (orig^compare)\n",
    "    return diffMask"
   ]
  },
  {
   "cell_type": "code",
   "execution_count": null,
   "metadata": {},
   "outputs": [],
   "source": [
    "spath = './data/split_data/'"
   ]
  },
  {
   "cell_type": "code",
   "execution_count": null,
   "metadata": {},
   "outputs": [],
   "source": [
    "\n",
    "folders = os.listdir(spath)\n",
    "for folder in folders:\n",
    "    print(folder)\n",
    "    \n",
    "    if os.path.isdir(spath+folder):\n",
    "        jpg_files = os.listdir(spath+folder)\n",
    "        \n",
    "        if not os.path.exists(spath+folder+'/mask_data'):\n",
    "            os.mkdir(spath+folder+'/mask_data')\n",
    "            \n",
    "        for f in jpg_files:\n",
    "            if not f.endswith('.jpg'):\n",
    "                continue\n",
    "            frameNr = f.split('.')[0].split('_')[1]\n",
    "            fo = get_orig(spath, folder)\n",
    "            fc = get_compare(spath, folder, frameNr)\n",
    "            dif = get_diff(fo, fc)\n",
    "            isWritten = cv2.imwrite(f'{spath}{folder}/mask_data/frame_{frameNr}.jpg', dif)\n",
    "            if not isWritten:\n",
    "                print('Error writing XOR file')\n",
    "    else:\n",
    "        print('Skipping file '+folder+'. Not a directory')"
   ]
  },
  {
   "cell_type": "markdown",
   "metadata": {},
   "source": [
    "### Processing the frame ##\n",
    "\n",
    "Thresholding --> Morphological Thransformation --> Edge detection (auto canny) --> Find contours\n",
    "\n",
    "Try out diffrent techniques listed in these links to suite your usecase. \n",
    "\n",
    "* Thresholding : https://docs.opencv.org/2.4.13.7/doc/tutorials/imgproc/threshold/threshold.html#types-of-thresholding\n",
    "\n",
    "* Morphological Thransformation : https://docs.opencv.org/3.4/d9/d61/tutorial_py_morphological_ops.html\n",
    "\n",
    "* Edge detection : https://docs.opencv.org/3.4/da/d22/tutorial_py_canny.html\n",
    "\n",
    "* Find contours : https://docs.opencv.org/4.x/d4/d73/tutorial_py_contours_begin.html: \n",
    "\n",
    "\n",
    "Note: Threshold works better when the image is in grayscale. So after the XOR operation it needs to be converted to gray scale.\n"
   ]
  },
  {
   "cell_type": "code",
   "execution_count": null,
   "metadata": {},
   "outputs": [],
   "source": [
    "def auto_canny(image, sigma=0.33):\n",
    "  # compute the median of the single channel pixel intensities\n",
    "  v = np.median(image)\n",
    "  # apply automatic Canny edge detection using the computed median\n",
    "  lower = int(max(0, (1.0 - sigma) * v))\n",
    "  upper = int(min(255, (1.0 + sigma) * v))\n",
    "  edged = cv2.Canny(image, lower, upper)\n",
    "  # return the edged image\n",
    "  return edged"
   ]
  },
  {
   "cell_type": "code",
   "execution_count": null,
   "metadata": {},
   "outputs": [],
   "source": [
    "def process_frame(img_path, isOrig):\n",
    "    oimg = cv2.imread(f'{img_path}')\n",
    "    if not isOrig:\n",
    "        gray = cv2.cvtColor(oimg, cv2.COLOR_BGR2GRAY)\n",
    "        (T, thresh) = cv2.threshold(gray, 127, 255, cv2.THRESH_BINARY)\n",
    "    else:\n",
    "        (T, thresh) = cv2.threshold(oimg, 127, 255, cv2.THRESH_BINARY)\n",
    "    kernel = cv2.getStructuringElement(cv2.MORPH_ELLIPSE,(2,2))\n",
    "    # print(thresh)\n",
    "    opening = cv2.morphologyEx(thresh, cv2.MORPH_OPEN, kernel, iterations = 2)\n",
    "    canny = auto_canny(opening)\n",
    "    return canny"
   ]
  },
  {
   "cell_type": "code",
   "execution_count": null,
   "metadata": {},
   "outputs": [],
   "source": [
    "def draw_contour(_canny, image):\n",
    "    im, contours, _ = cv2.findContours(_canny.copy(), cv2.RETR_EXTERNAL,cv2.CHAIN_APPROX_SIMPLE)\n",
    "    cv2.drawContours(image, contours, -1, (0, 0, 255), 2)\n",
    "    return image"
   ]
  },
  {
   "cell_type": "code",
   "execution_count": null,
   "metadata": {},
   "outputs": [],
   "source": [
    "### Draw the contour on the original video.\n",
    "### Contour is generated for two instances: (1) using the original video frames and, (2) using the xor operation output frames.\n",
    "\n",
    "folders = os.listdir(spath)\n",
    "for folder in folders:\n",
    "    print(folder)\n",
    "    \n",
    "    if os.path.isdir(spath+folder):\n",
    "        \n",
    "        if not os.path.exists(spath+folder+'/contour_data'):\n",
    "            os.mkdir(spath+folder+'/contour_data')\n",
    "            \n",
    "        if not os.path.exists(spath+folder+'/mask_contour_data'):\n",
    "            os.mkdir(spath+folder+'/mask_contour_data')\n",
    "\n",
    "        jpg_files = os.listdir(spath+folder)\n",
    "\n",
    "        for f in jpg_files:\n",
    "            if not f.endswith('.jpg'):\n",
    "                continue\n",
    "            frameNr = f.split('.')[0].split('_')[1]\n",
    "\n",
    "            ac = process_frame(spath+folder+'/'+f, True)\n",
    "            orig_fimg  = draw_contour(ac, cv2.imread(f'{spath}{folder}/{f}')) \n",
    "            isWritten = cv2.imwrite(f'{spath}{folder}/contour_data/frame_{frameNr}.jpg', orig_fimg)\n",
    "            if not isWritten:\n",
    "                print('Error writing contour file')\n",
    "\n",
    "            mask_ac = process_frame(f'{spath}{folder}/mask_data/{f}', False)\n",
    "            mask_fimg = draw_contour(mask_ac, cv2.imread(f'{spath}{folder}/{f}')) \n",
    "            isWritten = cv2.imwrite(f'{spath}{folder}/mask_contour_data/frame_{frameNr}.jpg', mask_fimg)\n",
    "            if not isWritten:\n",
    "                print('Error writing contour file')\n",
    "    else:\n",
    "        print('Skipping file '+folder+'. Not a directory')"
   ]
  },
  {
   "cell_type": "markdown",
   "metadata": {},
   "source": [
    "### Generate the final video ###\n",
    "\n",
    "Combine the frames with contours and output a mp4 file. "
   ]
  },
  {
   "cell_type": "code",
   "execution_count": null,
   "metadata": {},
   "outputs": [],
   "source": [
    "def output_videos(folder, isOrig):\n",
    "    \n",
    "    img_array = []\n",
    "    for i in range(len(glob.glob(spath+folder+'/contour_data/*.jpg'))):\n",
    "        if isOrig:\n",
    "            img = cv2.imread(spath+folder+f'/contour_data/frame_{i}.jpg')\n",
    "        else: \n",
    "            img = cv2.imread(spath+folder+f'/mask_contour_data/frame_{i}.jpg')\n",
    "        \n",
    "        height, width, layers = img.shape\n",
    "        size = (width,height)\n",
    "        img_array.append(img)\n",
    "        \n",
    "    if isOrig:\n",
    "        out = cv2.VideoWriter(spath+folder+'/contour_data/contour_data.mp4',cv2.VideoWriter_fourcc(*'DIVX'), 10, size)\n",
    "    else: \n",
    "        out = cv2.VideoWriter(spath+folder+'/mask_contour_data/mask_contour_data.mp4',cv2.VideoWriter_fourcc(*'DIVX'), 10, size)        \n",
    "\n",
    "    for i in range(len(img_array)):\n",
    "        out.write(img_array[i])\n",
    "    out.release()\n",
    "        "
   ]
  },
  {
   "cell_type": "code",
   "execution_count": null,
   "metadata": {},
   "outputs": [],
   "source": [
    "folders = os.listdir(spath)\n",
    "for folder in folders:\n",
    "    output_videos(folder, False)\n",
    "    output_videos(folder, True)"
   ]
  },
  {
   "cell_type": "code",
   "execution_count": null,
   "metadata": {},
   "outputs": [],
   "source": []
  }
 ],
 "metadata": {
  "kernelspec": {
   "display_name": "Python 3",
   "language": "python",
   "name": "python3"
  },
  "language_info": {
   "codemirror_mode": {
    "name": "ipython",
    "version": 3
   },
   "file_extension": ".py",
   "mimetype": "text/x-python",
   "name": "python",
   "nbconvert_exporter": "python",
   "pygments_lexer": "ipython3",
   "version": "3.7.7"
  }
 },
 "nbformat": 4,
 "nbformat_minor": 4
}
